{
 "cells": [
  {
   "cell_type": "code",
   "execution_count": 2,
   "id": "257bdae7",
   "metadata": {},
   "outputs": [
    {
     "name": "stdout",
     "output_type": "stream",
     "text": [
      "파일명 : CORPCODE.zip\n",
      "다운로드 완료.\n"
     ]
    }
   ],
   "source": [
    "from urllib import request\n",
    "from zipfile import ZipFile\n",
    "import ssl, os\n",
    "\n",
    "context = ssl._create_unverified_context()\n",
    "\n",
    "API_KEY=\"API_KEY\"\n",
    "url = \"https://opendart.fss.or.kr/api/corpCode.xml?crtfc_key=\"+API_KEY\n",
    "\n",
    "data = request.urlopen(url, context=context)\n",
    "filename = data.info().get_filename()\n",
    "print(\"파일명 : \" + filename)\n",
    "\n",
    "with open(filename, 'wb') as f:\n",
    "    f.write(data.read())\n",
    "    f.close\n",
    "\n",
    "print(\"다운로드 완료.\")\n",
    "\n",
    "with ZipFile(filename, 'r') as zipObj:\n",
    "   zipObj.extractall('./data/') # 현재 디렉토리에 압축을 해제\n",
    "\n",
    "if os.path.isfile(filename):\n",
    "  os.remove(filename) # 원본 압축파일 삭제"
   ]
  }
 ],
 "metadata": {
  "kernelspec": {
   "display_name": "Python 3 (ipykernel)",
   "language": "python",
   "name": "python3"
  },
  "language_info": {
   "codemirror_mode": {
    "name": "ipython",
    "version": 3
   },
   "file_extension": ".py",
   "mimetype": "text/x-python",
   "name": "python",
   "nbconvert_exporter": "python",
   "pygments_lexer": "ipython3",
   "version": "3.9.7"
  }
 },
 "nbformat": 4,
 "nbformat_minor": 5
}
