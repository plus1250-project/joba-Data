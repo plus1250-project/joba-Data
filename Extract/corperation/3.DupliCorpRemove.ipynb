{
 "cells": [
  {
   "cell_type": "code",
   "execution_count": null,
   "id": "b7b8d431",
   "metadata": {},
   "outputs": [],
   "source": [
    "import pickle\n",
    "with open(\"./data/company_condition_list.txt\",\"rb\") as fr:\n",
    "    data = pickle.load(fr)"
   ]
  },
  {
   "cell_type": "code",
   "execution_count": null,
   "id": "21c3da18",
   "metadata": {
    "scrolled": false
   },
   "outputs": [],
   "source": [
    "import pandas as pd\n",
    "pd_data = pd.DataFrame.from_dict(data)\n",
    "corp_list = pd_data.drop(['status', 'message', 'corp_name_eng', 'ceo_nm', 'corp_cls', 'jurir_no', 'bizr_no',\n",
    "       'adres', 'hm_url', 'ir_url', 'phn_no', 'fax_no', \n",
    "       'est_dt', 'acc_mt'], axis=1)"
   ]
  },
  {
   "cell_type": "code",
   "execution_count": null,
   "id": "d644eea5",
   "metadata": {},
   "outputs": [],
   "source": [
    "corp_list['stock_name'].value_counts()"
   ]
  },
  {
   "cell_type": "code",
   "execution_count": null,
   "id": "8db03f2f",
   "metadata": {},
   "outputs": [],
   "source": [
    "corp_list.to_csv(\"./data/corplist.csv\", index=False)"
   ]
  },
  {
   "cell_type": "code",
   "execution_count": null,
   "id": "261e7984",
   "metadata": {},
   "outputs": [],
   "source": [
    "# 중복 기업 제거(상장폐지 재상장으로 인해 중복 기업명 발생)\n",
    "corp_list1 = pd.read_csv(\"./data/corplist.csv\")"
   ]
  },
  {
   "cell_type": "code",
   "execution_count": null,
   "id": "1fa16677",
   "metadata": {},
   "outputs": [],
   "source": [
    "rm_dupli_name = [659435, 1212383, 231521, 580180, 843830, 102821, 130897, 386937, 151252, 1051339, 814810, 1010572, 1090921, 921475, 822572, 115852, 102760, 461690, 139418, 1194892, 925453, 991012, 656340, 1138993, 375302, 563147, 126229, 1119217, 1148909, 408336, 1128622, 686068, 311030, 1181940, 144155]"
   ]
  },
  {
   "cell_type": "code",
   "execution_count": null,
   "id": "28b88b7e",
   "metadata": {},
   "outputs": [],
   "source": [
    "for i in rm_dupli_name:\n",
    "    idx_num = corp_list1[corp_list1['corp_code'] == i].index\n",
    "    corp_list1 = corp_list1.drop(idx_num)"
   ]
  },
  {
   "cell_type": "code",
   "execution_count": null,
   "id": "92f08e67",
   "metadata": {},
   "outputs": [],
   "source": [
    "corp_list1['stock_name'].value_counts()"
   ]
  },
  {
   "cell_type": "code",
   "execution_count": null,
   "id": "f32dbbf2",
   "metadata": {},
   "outputs": [],
   "source": [
    "corp_list1 = corp_list1.reset_index(drop=True)"
   ]
  },
  {
   "cell_type": "code",
   "execution_count": null,
   "id": "465ed852",
   "metadata": {},
   "outputs": [],
   "source": [
    "corp_list1.to_csv(\"./data/corplist-refine.csv\", index=False)"
   ]
  }
 ],
 "metadata": {
  "kernelspec": {
   "display_name": "Python 3 (ipykernel)",
   "language": "python",
   "name": "python3"
  },
  "language_info": {
   "codemirror_mode": {
    "name": "ipython",
    "version": 3
   },
   "file_extension": ".py",
   "mimetype": "text/x-python",
   "name": "python",
   "nbconvert_exporter": "python",
   "pygments_lexer": "ipython3",
   "version": "3.9.7"
  }
 },
 "nbformat": 4,
 "nbformat_minor": 5
}
